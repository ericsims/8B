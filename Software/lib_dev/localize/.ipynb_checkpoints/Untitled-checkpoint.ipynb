{
 "cells": [
  {
   "cell_type": "code",
   "execution_count": 1,
   "id": "fe60afdc-9ea0-4165-a7d1-3b00d24f1ad0",
   "metadata": {},
   "outputs": [],
   "source": [
    "import sys\n",
    "import numpy as np\n",
    "from skimage import data,io,filters,transform\n",
    "from matplotlib import pyplot\n",
    "from matplotlib.colors import hsv_to_rgb"
   ]
  },
  {
   "cell_type": "code",
   "execution_count": 2,
   "id": "15f92c9c-d73a-45e0-923c-5759fdbb1a19",
   "metadata": {},
   "outputs": [],
   "source": [
    "def rotate_point(cx, cy, angle, p):\n",
    "    s = np.sin(angle);\n",
    "    c = np.cos(angle);\n",
    "    x = p[0]\n",
    "    y = p[1]\n",
    "    \n",
    "    # translate point back to origin:\n",
    "    x -= cx;\n",
    "    y -= cy;\n",
    "\n",
    "    # rotate point\n",
    "    xnew =  x * c - y * s\n",
    "    ynew =  x * s + y * c\n",
    "\n",
    "    # translate point back\n",
    "    x = int(xnew + cx)\n",
    "    y = int(ynew + cy)\n",
    "    return x,y\n"
   ]
  },
  {
   "cell_type": "code",
   "execution_count": 3,
   "id": "daa9e4ff-3def-4c86-bdfd-ed15e9cfb9ba",
   "metadata": {},
   "outputs": [
    {
     "data": {
      "image/png": "[encoded data removed]",
      "text/plain": [
       "<Figure size 432x288 with 1 Axes>"
      ]
     },
     "metadata": {
      "needs_background": "light"
     },
     "output_type": "display_data"
    },
    {
     "data": {
      "image/png": "[encoded data removed]",
      "text/plain": [
       "<Figure size 432x288 with 1 Axes>"
      ]
     },
     "metadata": {
      "needs_background": "light"
     },
     "output_type": "display_data"
    }
   ],
   "source": [
    "true_map = io.imread('true_map.jpg')\n",
    "blurred = np.floor(np.clip(filters.gaussian(true_map, sigma=(1, 1), multichannel=True)*10,0,1.5))\n",
    "io.imshow(blurred)\n",
    "io.show()\n",
    "\n",
    "#test_map = io.imread('dat4.jpg')\n",
    "test_map = np.zeros((50,50,3))\n",
    "points = [(10,17), (10,31), (17,9), (27,9)]\n",
    "r = 10/360*2*np.pi\n",
    "for p in points:\n",
    "    x,y = rotate_point(25,25,r,p)\n",
    "    test_map[y,x] = (1.0,1.0,1.0)\n",
    "    \n",
    "test_map = np.floor(np.clip(filters.gaussian(test_map, sigma=(1.5, 1.5), multichannel=True)*50,0,1.5))\n",
    "\n",
    "io.imshow(test_map)\n",
    "io.show()\n"
   ]
  },
  {
   "cell_type": "code",
   "execution_count": 4,
   "id": "3e2d6d67-cd05-4d20-936d-541d0389d974",
   "metadata": {},
   "outputs": [],
   "source": [
    "def least_squares(img_a, img_b):\n",
    "    height_a, width_a, depth_a = img_a.shape\n",
    "    height_b, width_b, depth_b = img_b.shape\n",
    "    if not (height_a == height_b and width_a == width_b):\n",
    "        raise Exception('images must be same dims')\n",
    "    total = 0\n",
    "    \n",
    "    lsqe_map = np.zeros((height_a, width_a, 1))\n",
    "    \n",
    "    for x in range(width_a):\n",
    "        for y in range(height_a):\n",
    "            #print(img_b[y,x,0])\n",
    "            #v = (img_a[y,x,0] - img_b[y,x,0])**2\n",
    "            if (img_a[y,x,0] + img_b[y,x,0]) > 1.5:\n",
    "                v = 1\n",
    "            else:\n",
    "                v = 0\n",
    "            lsqe_map[y,x] = v\n",
    "            total += v\n",
    "            \n",
    "    #io.imshow(lsqe_map)\n",
    "    #io.show()\n",
    "    return total\n",
    "        \n",
    "\n",
    "def least_squares_norm(img_a, img_b):\n",
    "    height_a, width_a, depth_a = img_a.shape\n",
    "    return least_squares(img_a,img_b)/(height_a*width_a)"
   ]
  },
  {
   "cell_type": "code",
   "execution_count": null,
   "id": "972d398b-68e9-4207-ac49-ff601536a3e0",
   "metadata": {},
   "outputs": [
    {
     "name": "stdout",
     "output_type": "stream",
     "text": [
      "-15\n",
      "-10\n",
      "-5\n",
      "0\n"
     ]
    }
   ],
   "source": [
    "\n",
    "height_map, width_map, depth_map = true_map.shape\n",
    "height, width, depth = test_map.shape\n",
    "\n",
    "\n",
    "DECIMATE = 1\n",
    "\n",
    "lsqe_map = np.zeros((int((height_map-height)/DECIMATE+1), int((width_map-width)/DECIMATE+1), 360))\n",
    "lsqe_map_hsv = np.zeros((int((height_map-height)/DECIMATE+1), int((width_map-width)/DECIMATE+1), 3))\n",
    "\n",
    "\n",
    "angles = [-15,-10,-5,0,5,10,15]\n",
    "for angle in angles:\n",
    "    print(angle)\n",
    "    T=transform.rotate(test_map,angle)\n",
    "    for x in range(0,width_map-width+1,DECIMATE):\n",
    "        for y in range(0,height_map-height+1,DECIMATE):\n",
    "            crop = blurred[y:(y+height), x:(x+width)]\n",
    "            v=least_squares_norm(crop, T)\n",
    "            #print(v)\n",
    "            lsqe_map[int(y/DECIMATE),int(x/DECIMATE), int((angle+360)%360)] = v\n",
    "\n",
    "#for x in range(0,width_map-width+1,DECIMATE):\n",
    "#    for y in range(0,height_map-height+1,DECIMATE):\n",
    "#        min_ang = np.argmin(np.ma.masked_where(lsqe_map[int(y/DECIMATE),int(x/DECIMATE)]==0, lsqe_map[int(y/DECIMATE),int(x/DECIMATE)]))\n",
    "        #print(min_ang)\n",
    "#        lsqe_map_hsv[int(y/DECIMATE),int(x/DECIMATE)] = [min_ang/360, np.max([1-10*lsqe_map[int(y/DECIMATE),int(x/DECIMATE),min_ang],0]), 1-np.min([20*lsqe_map[int(y/DECIMATE),int(x/DECIMATE),min_ang],1])]\n",
    "        \n",
    "        \n",
    "\n",
    "pyplot.imshow(hsv_to_rgb(lsqe_map_hsv))\n",
    "pyplot.show()"
   ]
  },
  {
   "cell_type": "code",
   "execution_count": null,
   "id": "13456e86-c2fc-405c-81d6-63a8abc97311",
   "metadata": {},
   "outputs": [],
   "source": [
    "max_term = np.unravel_index(np.argmax(np.ma.masked_where(lsqe_map==0, lsqe_map)), lsqe_map.shape)\n",
    "circle = (int(max_term[0]+height/2), int(max_term[1]+width/2),max_term[2])\n",
    "print(max_term)\n",
    "print(circle)"
   ]
  },
  {
   "cell_type": "code",
   "execution_count": null,
   "id": "294f03a9-7676-4ec6-8d47-5327c010a40a",
   "metadata": {},
   "outputs": [],
   "source": [
    "for x in range(0,width_map-width+1,DECIMATE):\n",
    "    for y in range(0,height_map-height+1,DECIMATE):\n",
    "        min_ang = np.argmax(np.ma.masked_where(lsqe_map[int(y/DECIMATE),int(x/DECIMATE)]==0, lsqe_map[int(y/DECIMATE),int(x/DECIMATE)]))\n",
    "        #print(min_ang)\n",
    "        lsqe_map_hsv[int(y/DECIMATE),int(x/DECIMATE)] = [min_ang/360, np.max([1-10*lsqe_map[int(y/DECIMATE),int(x/DECIMATE),min_ang],0]), 1-np.min([1*lsqe_map[int(y/DECIMATE),int(x/DECIMATE),min_ang],1])]\n",
    "        \n",
    "map_disp = blurred\n",
    "map_disp[circle[0:2]] = [1,0,0]\n",
    "        \n",
    "io.imshow(map_disp)\n",
    "io.show()\n",
    "\n",
    "io.imshow(test_map)\n",
    "io.show()\n",
    "\n",
    "display = hsv_to_rgb(lsqe_map_hsv)\n",
    "display[max_term[0:2]] = [1,1,1]\n",
    "\n",
    "pyplot.imshow(lsqe_map[:,:,-10])\n",
    "pyplot.show()\n",
    "pyplot.imshow(lsqe_map[:,:,0])\n",
    "pyplot.show()\n",
    "pyplot.imshow(lsqe_map[:,:,10])\n",
    "pyplot.show()"
   ]
  },
  {
   "cell_type": "code",
   "execution_count": null,
   "id": "85ebf675-05ca-475e-8fd7-66dcce33d882",
   "metadata": {},
   "outputs": [],
   "source": [
    "for a in angles:\n",
    "    ROI = lsqe_map[45:,60:,a]\n",
    "    center = np.unravel_index(np.argmax(np.ma.masked_where(ROI==0, ROI)), ROI.shape)\n",
    "    print(a, center, ROI[center])\n",
    "    pyplot.imshow(ROI)\n",
    "    pyplot.show()"
   ]
  }
 ],
 "metadata": {
  "kernelspec": {
   "display_name": "Python 3",
   "language": "python",
   "name": "python3"
  },
  "language_info": {
   "codemirror_mode": {
    "name": "ipython",
    "version": 3
   },
   "file_extension": ".py",
   "mimetype": "text/x-python",
   "name": "python",
   "nbconvert_exporter": "python",
   "pygments_lexer": "ipython3",
   "version": "3.9.4"
  }
 },
 "nbformat": 4,
 "nbformat_minor": 5
}
